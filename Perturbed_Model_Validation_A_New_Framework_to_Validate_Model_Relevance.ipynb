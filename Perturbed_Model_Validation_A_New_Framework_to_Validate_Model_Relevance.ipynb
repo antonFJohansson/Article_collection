{
  "nbformat": 4,
  "nbformat_minor": 0,
  "metadata": {
    "colab": {
      "name": "Perturbed Model Validation: A New Framework to Validate Model Relevance.ipynb",
      "version": "0.3.2",
      "provenance": [],
      "collapsed_sections": [],
      "include_colab_link": true
    },
    "kernelspec": {
      "name": "python3",
      "display_name": "Python 3"
    }
  },
  "cells": [
    {
      "cell_type": "markdown",
      "metadata": {
        "id": "view-in-github",
        "colab_type": "text"
      },
      "source": [
        "<a href=\"https://colab.research.google.com/github/antonFJohansson/Article_collection/blob/master/Perturbed_Model_Validation_A_New_Framework_to_Validate_Model_Relevance.ipynb\" target=\"_parent\"><img src=\"https://colab.research.google.com/assets/colab-badge.svg\" alt=\"Open In Colab\"/></a>"
      ]
    },
    {
      "cell_type": "markdown",
      "metadata": {
        "id": "28S9OWCgrLFV",
        "colab_type": "text"
      },
      "source": [
        "-------------------------------------------------------\n",
        "The idea of the article is to select a model by injecting noise into the labels of the training data. It is based on the idea that a model that overfits the training data should also be able to overfit the new noisy labels, while a model that underfits the data should get similar performance to before. Thus they propose that we should be able to detect which model that does not overfit or underfit based on the change in training accuracy.\n",
        "\n",
        "They argue against Cross-Validation by saying that we assume that the holdout set models the underlying data distribution well, but that this does not always hold (where I assume one could find such an example when training on Google Images and Mobile Cell Phone Images). They also argue that different models can have very similar CV-scores, making it difficult to discrent between them and find which one to use.\n",
        "\n",
        "They also argue against VC-dimension or Rademacher complexity since these can be very difficult to compute (even though they theoretically gives upper bounds on the generalization error). VC-dimension and Rademacher does not both take into account the data distribution and the label distribution, something that their method does. \n",
        "\n",
        "**Thoughts**\n",
        "\n",
        "I think the idea is interesting but maybe easiest to implement for simple models and not neural networks since some of them can fit the data no matter how we flip the labels but are still able to generalize well. The article is not very well written to me unfortunately. And if I have understood everything correctly then I do not see evidence of their method working when applying it to a toy problem."
      ]
    },
    {
      "cell_type": "markdown",
      "metadata": {
        "id": "Dz8KPX6ft6IR",
        "colab_type": "text"
      },
      "source": [
        "------------------------------------------------------------\n",
        "The VC-dimension is a measure of the capacity of a hypothesis class (function space). On Wikipedia they have two definitions of the VC-dimension\n",
        "\n",
        "**VC-dimension of a set family**\n",
        "\n",
        "Let $H$ be a family of sets and let $C$ be a set. Their intersection is defined as\n",
        "$$H \\cap C = \\{h \\cap C|h \\in H\\}$$\n",
        "We say that $C$ is shattered by $H$ if $H \\cap C$ contains all subsets of $C$, i.e, $H \\cap C = 2^{|C|}$. The way we interpret this is that in a binary classification problem, no matter what the labeling of the points are: we can always find a function in our hypothesis class which can classify the labeling with 100% accuracy. The VC-dimension is the largest cardinality of $C$ for which there exists a set such that this holds.\n",
        "\n",
        "**VC-dimension of a classification model**\n",
        "\n",
        "A classification model $f$ with some parameters $\\theta$ is said to shatter a set of datapoints $\\{x_i\\}i=1^n$, if for all labelings of these points, there exists a $\\theta$ such that $f$ correctly classifies all the points. The VC-dimension is once again the cardinality of the largest set such that this holds. [Q1]\n",
        "\n",
        "A few examples would be\n",
        "* A constant classifier: This classifier has VC-dimension 0 since it will always give the same result. But if we label a single point differently then we need to get different answers.\n",
        "* A classifier with a single parameter $\\theta$ such that if $x>\\theta$ then the point is classified as 1 and 0 otherwise. The VC-dimension of this classifier is 1 since it can shatter a set with 1 point but not 2 point since if the smaller of the points is labelled 1 then the larger of the points need to be labelled 1 as well, indicating that we cannot shatter the set.\n",
        "* A linear classifier has VC-dimension 3 because one can show that there is no way to arrange 4 points such that they can be shattered by a line.\n",
        "* $\\sin (\\theta x)$ has infinite VC-dimension. This does not necessarily mean that it is a good classifier, just that there exists such a data set that can be shattered.\n",
        "\n",
        "The VC-dimension can be used to get probabilistic bounds on the generalization error when new data points are drawn according to the data distribution.\n",
        "\n",
        "##Questions/Answers\n",
        "* [Q1]: It seems a bit strange that we only require that we find one set such that this holds. It seems one should be able to construct sets then which are almost trivial just to increase the VC-dimension."
      ]
    },
    {
      "cell_type": "markdown",
      "metadata": {
        "id": "gx2s0dVp18GT",
        "colab_type": "text"
      },
      "source": [
        "----------------------------------------------------------------\n",
        "The Rademacher complexity is another way to measure the richness (maybe capacity?) of a class of functions (hypothesis class) **with respect to a probability distribution**. It is defined in steps, first we define the Rademacher complexity of a set as:\n",
        "\n",
        "Given a set $A \\in \\mathbb{R}^n$, the Rademacher complexity is defined as follows\n",
        "$$Rad(A) = \\frac{1}{m}\\mathbb{E}_{\\sigma}\\bigg[\\sup_{a \\in A} \\sum_{i=1}^n \\sigma_ia_i\\bigg]$$\n",
        "where $\\sigma_1,\\sigma_2,...,\\sigma_n$ are independent random variables drawn with the Rademacher distribution given as $P(\\sigma_i=1)=P(\\sigma_i=-1) = 1/2$ and $a = (a_1,a_2,...,a_n)$\n",
        "\n",
        "The Rademacher complexity of a function class is given as:\n",
        "\n",
        "Given a sample $S = (z_1,z_2,...,z_n) \\in Z^n$, and a class $F$ of real-valued functions defined on a domain space $Z$, the empirical Rademacher complexity of $F$ given $S$ is given as\n",
        "$$Rad_{S}(F) = \\frac{1}{m}\\mathbb{E_{\\sigma}}\\bigg[\\sup_{f \\in F}\\sum_{i=1}^m\\sigma_i f(z_i)\\bigg]$$\n",
        "whcih we can write with the previous notation as\n",
        "$$Rad_S(F) = Rad(F \\circ S)$$ where $F \\circ S = \\{f(z_1, ...,f(z_n))|f\\in F\\}$. Now let $P$ be a probability distribution over $Z$, the Rademacher complexity of the function class $F$ with respect to the probability distribution $P$ for a sample size of $n$ is\n",
        "$$Rad_{P,m}(F) = \\mathbb{E}_{S\\sim P^n}[Rad_S (F)]$$\n",
        "\n",
        "The goal of these formulas is that we can derive data-dependent bounds on the learnability of function classes, i.e, how easy they are to learn. A function class with a smaller Rademacher complexity should be easier to learn. I guess this has more to do with how easy a function is to learn compared to if it overfits or not maybe. The idea being that if we have a very high capacity function class then the Rademacher complexity will be large, while if we have a constant function the complexity will be 0. And a constant function should in some sense be easy to identify.\n",
        "\n",
        "The Rademacher complexity can be used to get upper-bounds on the generalization error and there are connections to the VC-dimension.\n"
      ]
    },
    {
      "cell_type": "markdown",
      "metadata": {
        "id": "A1B1LTkF7ZGN",
        "colab_type": "text"
      },
      "source": [
        "-----------------------------------------------------------------------------------------\n",
        "The way they implement their method called PMV (Perturbed Model Validation) is by proceeding with the following steps:\n",
        "* Inject noise with different degress ( i.e. flip a label with a certain probability)\n",
        "* Retrain the model and check the decrease in training accuracy\n",
        "\n",
        "They also fit a linear model to the points given by ($r_i, Acc(S_{r_i})$) where $r_i$ is the label flipping probability and $Acc(S_{r_i})$ is the corresponding training accuracy. They vary $r_i$ from 0 to 0.5. Thus they get a linear line of the training accuracy as a function of the noise degree as\n",
        "$$\\hat{Acc} = kr + \\hat{Acc}(S)$$\n",
        "They see some difference when using this method compared to using cross-validation. \n",
        "\n",
        "One issue with their method might be that they do not actually repeat the randomisation of labels it seems like but just do it once. They even complain that this is something which the cross-validation method gives differing results for."
      ]
    },
    {
      "cell_type": "code",
      "metadata": {
        "id": "HqWdVnBHMIuY",
        "colab_type": "code",
        "colab": {
          "base_uri": "https://localhost:8080/",
          "height": 323
        },
        "outputId": "4aa6d100-3561-486f-f61c-6db8a199aa2c"
      },
      "source": [
        "## So we try their method with some simple polynomials here\n",
        "import numpy as np\n",
        "import matplotlib.pyplot as plt\n",
        "from sklearn.linear_model import LogisticRegression\n",
        "\n",
        "x = np.arange(2,5,0.05)\n",
        "y = -x**3 + 5*x**2-x - 14 + np.random.normal(0,0.2,x.shape[0])\n",
        "y = 1 / (1+ np.exp(y))\n",
        "y = y > 0.5\n",
        "#plt.scatter(x,y)\n",
        "X1 = np.expand_dims(x,1)\n",
        "X2 = np.stack((x, x**2), 1)\n",
        "X3 = np.stack((x, x**2, x**3), 1)\n",
        "X4 = np.stack((x, x**2, x**3, x**4), 1)\n",
        "X5 = np.stack((x, x**2, x**3, x**4, x**5), 1)\n",
        "X6 = np.stack((x, x**2, x**3, x**4, x**5, x**6), 1)\n",
        "\n",
        "\n",
        "num_steps = 20\n",
        "r = np.linspace(0,0.5,num_steps)\n",
        "s = np.zeros((6,num_steps))\n",
        "\n",
        "\n",
        "for k in range(num_steps):\n",
        "  \n",
        "  if k != 0:\n",
        "    y = np.random.binomial(1,r[k], y.shape[0])\n",
        "  \n",
        "  clf1 = LogisticRegression(random_state=0, solver='lbfgs').fit(X1,y)\n",
        "  s[0,k]=clf1.score(X1,y)\n",
        "\n",
        "  clf2 = LogisticRegression(random_state=0, solver='lbfgs').fit(X2,y)\n",
        "  s[1,k]=clf2.score(X2,y)\n",
        "\n",
        "  clf3 = LogisticRegression(random_state=0, solver='lbfgs').fit(X3,y)\n",
        "  s[2,k]=clf3.score(X3,y)\n",
        "\n",
        "  clf4 = LogisticRegression(random_state=0, solver='lbfgs').fit(X4,y)\n",
        "  s[3,k]=clf4.score(X4,y)\n",
        "\n",
        "  clf5 = LogisticRegression(random_state=0, solver='lbfgs').fit(X5,y)\n",
        "  s[4,k]=clf5.score(X5,y)\n",
        "\n",
        "  clf6 = LogisticRegression(random_state=0, solver='lbfgs').fit(X6,y)\n",
        "  s[5,k]=clf6.score(X6,y)\n",
        "\n",
        "\n",
        "for k in range(6):\n",
        "  \n",
        "  plt.plot(r, s[k,:])\n",
        "\n"
      ],
      "execution_count": 78,
      "outputs": [
        {
          "output_type": "stream",
          "text": [
            "/usr/local/lib/python3.6/dist-packages/sklearn/linear_model/logistic.py:947: ConvergenceWarning: lbfgs failed to converge. Increase the number of iterations.\n",
            "  \"of iterations.\", ConvergenceWarning)\n"
          ],
          "name": "stderr"
        },
        {
          "output_type": "display_data",
          "data": {
            "image/png": "[encoded data removed]",
            "text/plain": [
              "<Figure size 432x288 with 1 Axes>"
            ]
          },
          "metadata": {
            "tags": []
          }
        }
      ]
    }
  ]
}